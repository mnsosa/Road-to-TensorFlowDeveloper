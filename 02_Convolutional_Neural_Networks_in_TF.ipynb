{
  "nbformat": 4,
  "nbformat_minor": 0,
  "metadata": {
    "colab": {
      "name": "02 - Convolutional_Neural_Networks_in_TF.ipynb",
      "provenance": [],
      "authorship_tag": "ABX9TyMIGRNA/wa6aZfrkevataiV",
      "include_colab_link": true
    },
    "kernelspec": {
      "name": "python3",
      "display_name": "Python 3"
    },
    "language_info": {
      "name": "python"
    }
  },
  "cells": [
    {
      "cell_type": "markdown",
      "metadata": {
        "id": "view-in-github",
        "colab_type": "text"
      },
      "source": [
        "<a href=\"https://colab.research.google.com/github/mnsosa/Road-to-TensorFlowDeveloper/blob/main/02_Convolutional_Neural_Networks_in_TF.ipynb\" target=\"_parent\"><img src=\"https://colab.research.google.com/assets/colab-badge.svg\" alt=\"Open In Colab\"/></a>"
      ]
    },
    {
      "cell_type": "markdown",
      "source": [
        "# Convolutional Neural Networks in TensorFlow\n",
        "\n",
        "Un curso de DeepLearning.AI\n"
      ],
      "metadata": {
        "id": "MinKKHEzsRTD"
      }
    },
    {
      "cell_type": "markdown",
      "source": [
        "## Semana 1"
      ],
      "metadata": {
        "id": "gi48o0vNsPIc"
      }
    },
    {
      "cell_type": "markdown",
      "source": [
        "Se utilizará el famoso dataset de Dogs vs. Cats de Kaggle.\n",
        "\n",
        "https://www.kaggle.com/c/dogs-vs-cats\n",
        "\n",
        "Ya que es de fines educativos, existe una versión reducida del dataset en un Storage de Google."
      ],
      "metadata": {
        "id": "sDcXLXTxu2NN"
      }
    },
    {
      "cell_type": "code",
      "execution_count": 1,
      "metadata": {
        "colab": {
          "base_uri": "https://localhost:8080/"
        },
        "id": "mYydFF5JqvZI",
        "outputId": "b7fbe5bb-466b-4eac-a1f9-99aee83a3d7a"
      },
      "outputs": [
        {
          "output_type": "stream",
          "name": "stdout",
          "text": [
            "--2021-12-15 21:14:40--  https://storage.googleapis.com/mledu-datasets/cats_and_dogs_filtered.zip\n",
            "Resolving storage.googleapis.com (storage.googleapis.com)... 173.194.216.128, 173.194.217.128, 173.194.218.128, ...\n",
            "Connecting to storage.googleapis.com (storage.googleapis.com)|173.194.216.128|:443... connected.\n",
            "HTTP request sent, awaiting response... 200 OK\n",
            "Length: 68606236 (65M) [application/zip]\n",
            "Saving to: ‘cats_and_dogs_filtered.zip’\n",
            "\n",
            "cats_and_dogs_filte 100%[===================>]  65.43M   240MB/s    in 0.3s    \n",
            "\n",
            "2021-12-15 21:14:41 (240 MB/s) - ‘cats_and_dogs_filtered.zip’ saved [68606236/68606236]\n",
            "\n"
          ]
        }
      ],
      "source": [
        "!wget --no-check-certificate https://storage.googleapis.com/mledu-datasets/cats_and_dogs_filtered.zip"
      ]
    },
    {
      "cell_type": "code",
      "source": [
        "import os\n",
        "import zipfile\n",
        "\n",
        "local_zip = './cats_and_dogs_filtered.zip'\n",
        "zip_ref = zipfile.ZipFile(local_zip, 'r')\n",
        "zip_ref.extractall()\n",
        "zip_ref.close()"
      ],
      "metadata": {
        "id": "LzwsMSEMv6rA"
      },
      "execution_count": 2,
      "outputs": []
    },
    {
      "cell_type": "markdown",
      "source": [
        "Notar que luego del extract all ya se tiene la carpeta descomprimida."
      ],
      "metadata": {
        "id": "xf_kZwbxwJQn"
      }
    },
    {
      "cell_type": "markdown",
      "source": [
        "![image.png](data:image/png;base64,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)"
      ],
      "metadata": {
        "id": "Ij0YrIcnwH_N"
      }
    },
    {
      "cell_type": "code",
      "source": [
        ""
      ],
      "metadata": {
        "id": "frrfTnru8qtz"
      },
      "execution_count": null,
      "outputs": []
    }
  ]
}